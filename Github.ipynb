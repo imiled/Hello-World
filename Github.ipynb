{
  "nbformat": 4,
  "nbformat_minor": 0,
  "metadata": {
    "colab": {
      "name": "Github.ipynb",
      "provenance": [],
      "authorship_tag": "ABX9TyM7BCgM5zu+/WMzNPX9Vql8",
      "include_colab_link": true
    },
    "kernelspec": {
      "name": "python3",
      "display_name": "Python 3"
    }
  },
  "cells": [
    {
      "cell_type": "markdown",
      "metadata": {
        "id": "view-in-github",
        "colab_type": "text"
      },
      "source": [
        "<a href=\"https://colab.research.google.com/github/imiled/Hello-World/blob/master/Github.ipynb\" target=\"_parent\"><img src=\"https://colab.research.google.com/assets/colab-badge.svg\" alt=\"Open In Colab\"/></a>"
      ]
    },
    {
      "cell_type": "code",
      "metadata": {
        "id": "eWzxl01_U9JK",
        "colab_type": "code",
        "colab": {
          "base_uri": "https://localhost:8080/",
          "height": 121
        },
        "outputId": "cdd8f5e7-4fba-4b86-fbb9-f6ea27973e8d"
      },
      "source": [
        "!git clone https://github.com/imiled/DL_Tools_For_Finance.git"
      ],
      "execution_count": 1,
      "outputs": [
        {
          "output_type": "stream",
          "text": [
            "Cloning into 'DL_Tools_For_Finance'...\n",
            "Host key verification failed.\r\n",
            "fatal: Could not read from remote repository.\n",
            "\n",
            "Please make sure you have the correct access rights\n",
            "and the repository exists.\n"
          ],
          "name": "stdout"
        }
      ]
    },
    {
      "cell_type": "code",
      "metadata": {
        "id": "RsV_HAA3jeKI",
        "colab_type": "code",
        "colab": {
          "base_uri": "https://localhost:8080/",
          "height": 34
        },
        "outputId": "155b22b1-b3f2-4481-dcce-8864dc1c6c42"
      },
      "source": [
        "!git status"
      ],
      "execution_count": 2,
      "outputs": [
        {
          "output_type": "stream",
          "text": [
            "fatal: not a git repository (or any of the parent directories): .git\n"
          ],
          "name": "stdout"
        }
      ]
    },
    {
      "cell_type": "code",
      "metadata": {
        "id": "ngyTVpaEjpne",
        "colab_type": "code",
        "colab": {
          "base_uri": "https://localhost:8080/",
          "height": 34
        },
        "outputId": "0d308c50-a1f3-4ce5-ce37-06a037e1c35b"
      },
      "source": [
        "!git --version"
      ],
      "execution_count": 3,
      "outputs": [
        {
          "output_type": "stream",
          "text": [
            "git version 2.17.1\n"
          ],
          "name": "stdout"
        }
      ]
    },
    {
      "cell_type": "code",
      "metadata": {
        "id": "ZrfMaDstkKgJ",
        "colab_type": "code",
        "colab": {}
      },
      "source": [
        "!git config --global user.name \"imiled\""
      ],
      "execution_count": 6,
      "outputs": []
    },
    {
      "cell_type": "code",
      "metadata": {
        "id": "hWhKstuukR7y",
        "colab_type": "code",
        "colab": {}
      },
      "source": [
        "!git config --global user.email \"miledismael@gmail.com\""
      ],
      "execution_count": 3,
      "outputs": []
    },
    {
      "cell_type": "code",
      "metadata": {
        "id": "X9JLApbJkZgr",
        "colab_type": "code",
        "colab": {
          "base_uri": "https://localhost:8080/",
          "height": 69
        },
        "outputId": "988405a9-6929-4de8-d6d0-a291adbb959a"
      },
      "source": [
        "!git config --global --list"
      ],
      "execution_count": 4,
      "outputs": [
        {
          "output_type": "stream",
          "text": [
            "user.name=imiled\n",
            "user.email=miledismael@gmail.com\n",
            "url.git@github.com:.insteadof=https://github.com/\n"
          ],
          "name": "stdout"
        }
      ]
    },
    {
      "cell_type": "code",
      "metadata": {
        "id": "wC1-4nqZkaRT",
        "colab_type": "code",
        "colab": {
          "base_uri": "https://localhost:8080/",
          "height": 121
        },
        "outputId": "1b21327c-d9d2-46b3-ddaf-285bdd4bbe22"
      },
      "source": [
        "!git clone https://github.com/imiled/DL_Tools_For_Finance.git"
      ],
      "execution_count": 7,
      "outputs": [
        {
          "output_type": "stream",
          "text": [
            "Cloning into 'DL_Tools_For_Finance'...\n",
            "Host key verification failed.\r\n",
            "fatal: Could not read from remote repository.\n",
            "\n",
            "Please make sure you have the correct access rights\n",
            "and the repository exists.\n"
          ],
          "name": "stdout"
        }
      ]
    },
    {
      "cell_type": "code",
      "metadata": {
        "id": "48ESFr6Ekmvr",
        "colab_type": "code",
        "colab": {
          "base_uri": "https://localhost:8080/",
          "height": 34
        },
        "outputId": "5594bb56-5ebc-46ca-a3d7-32e093409678"
      },
      "source": [
        "!pwd"
      ],
      "execution_count": 8,
      "outputs": [
        {
          "output_type": "stream",
          "text": [
            "/content\n"
          ],
          "name": "stdout"
        }
      ]
    },
    {
      "cell_type": "code",
      "metadata": {
        "id": "Ru1LdUcvkqW1",
        "colab_type": "code",
        "colab": {
          "base_uri": "https://localhost:8080/",
          "height": 121
        },
        "outputId": "2236fc80-f11c-4b34-9dcb-74b46c103f6e"
      },
      "source": [
        "!git clone git@github.com:imiled/DL_Tools_For_Finance.git"
      ],
      "execution_count": 9,
      "outputs": [
        {
          "output_type": "stream",
          "text": [
            "Cloning into 'DL_Tools_For_Finance'...\n",
            "Host key verification failed.\r\n",
            "fatal: Could not read from remote repository.\n",
            "\n",
            "Please make sure you have the correct access rights\n",
            "and the repository exists.\n"
          ],
          "name": "stdout"
        }
      ]
    },
    {
      "cell_type": "code",
      "metadata": {
        "id": "q5jyN_enlEne",
        "colab_type": "code",
        "colab": {
          "base_uri": "https://localhost:8080/",
          "height": 34
        },
        "outputId": "f642919d-7454-489e-9c33-7ae43624de23"
      },
      "source": [
        "!ls"
      ],
      "execution_count": 11,
      "outputs": [
        {
          "output_type": "stream",
          "text": [
            "DL_Tools_For_Finance\n"
          ],
          "name": "stdout"
        }
      ]
    },
    {
      "cell_type": "code",
      "metadata": {
        "id": "_Rd5odC5lHVv",
        "colab_type": "code",
        "colab": {
          "base_uri": "https://localhost:8080/",
          "height": 34
        },
        "outputId": "b5934e9a-9d06-4364-9535-5de3e1f2fabc"
      },
      "source": [
        "%mkdir TFM"
      ],
      "execution_count": 9,
      "outputs": [
        {
          "output_type": "stream",
          "text": [
            "mkdir: cannot create directory ‘TFM’: File exists\n"
          ],
          "name": "stdout"
        }
      ]
    },
    {
      "cell_type": "code",
      "metadata": {
        "id": "9O_yEuu7lPV5",
        "colab_type": "code",
        "colab": {
          "base_uri": "https://localhost:8080/",
          "height": 34
        },
        "outputId": "69cfef51-23d4-48ca-91cd-c2590dfb20f3"
      },
      "source": [
        "%cd TFM"
      ],
      "execution_count": 10,
      "outputs": [
        {
          "output_type": "stream",
          "text": [
            "/content/TFM\n"
          ],
          "name": "stdout"
        }
      ]
    },
    {
      "cell_type": "code",
      "metadata": {
        "id": "c7hN6uL2lRww",
        "colab_type": "code",
        "colab": {
          "base_uri": "https://localhost:8080/",
          "height": 34
        },
        "outputId": "d7672215-1c08-4a0b-e85f-24f816fde828"
      },
      "source": [
        "!git clone https://github.com/imiled/DL_Tools_For_Finance.git"
      ],
      "execution_count": 12,
      "outputs": [
        {
          "output_type": "stream",
          "text": [
            "fatal: destination path 'DL_Tools_For_Finance' already exists and is not an empty directory.\n"
          ],
          "name": "stdout"
        }
      ]
    },
    {
      "cell_type": "code",
      "metadata": {
        "id": "s0ZP3cKJlThn",
        "colab_type": "code",
        "colab": {
          "base_uri": "https://localhost:8080/",
          "height": 34
        },
        "outputId": "52040f16-d53a-4983-d7cc-09fd55bc4e75"
      },
      "source": [
        "!git status"
      ],
      "execution_count": 13,
      "outputs": [
        {
          "output_type": "stream",
          "text": [
            "fatal: not a git repository (or any of the parent directories): .git\n"
          ],
          "name": "stdout"
        }
      ]
    },
    {
      "cell_type": "markdown",
      "metadata": {
        "id": "9m-cZqIMmG8t",
        "colab_type": "text"
      },
      "source": [
        "Apres changement en public visibilty du github"
      ]
    },
    {
      "cell_type": "code",
      "metadata": {
        "id": "1n8liJQel1RD",
        "colab_type": "code",
        "colab": {
          "base_uri": "https://localhost:8080/",
          "height": 121
        },
        "outputId": "9687e49a-88ec-4afe-8d15-a549185b8ead"
      },
      "source": [
        "!git clone https://github.com/imiled/DL_Tools_For_Finance.git"
      ],
      "execution_count": 15,
      "outputs": [
        {
          "output_type": "stream",
          "text": [
            "Cloning into 'DL_Tools_For_Finance'...\n",
            "remote: Enumerating objects: 87, done.\u001b[K\n",
            "remote: Counting objects: 100% (87/87), done.\u001b[K\n",
            "remote: Compressing objects: 100% (86/86), done.\u001b[K\n",
            "remote: Total 87 (delta 39), reused 0 (delta 0), pack-reused 0\u001b[K\n",
            "Unpacking objects: 100% (87/87), done.\n"
          ],
          "name": "stdout"
        }
      ]
    },
    {
      "cell_type": "code",
      "metadata": {
        "id": "OkZMw11LmNFc",
        "colab_type": "code",
        "colab": {
          "base_uri": "https://localhost:8080/",
          "height": 34
        },
        "outputId": "a95bbb75-fea3-4a1c-87d4-07ad3fffd3f0"
      },
      "source": [
        "%ls\n"
      ],
      "execution_count": 16,
      "outputs": [
        {
          "output_type": "stream",
          "text": [
            "\u001b[0m\u001b[01;34mDL_Tools_For_Finance\u001b[0m/\n"
          ],
          "name": "stdout"
        }
      ]
    },
    {
      "cell_type": "code",
      "metadata": {
        "id": "D2vMe1XkmRnl",
        "colab_type": "code",
        "colab": {
          "base_uri": "https://localhost:8080/",
          "height": 34
        },
        "outputId": "5ce3dbdc-d900-457c-8bcc-b0ebacd049e7"
      },
      "source": [
        "%cd DL_Tools_For_Finance/"
      ],
      "execution_count": 16,
      "outputs": [
        {
          "output_type": "stream",
          "text": [
            "/content/TFM/DL_Tools_For_Finance\n"
          ],
          "name": "stdout"
        }
      ]
    },
    {
      "cell_type": "code",
      "metadata": {
        "id": "uo2BSWLLmalF",
        "colab_type": "code",
        "colab": {
          "base_uri": "https://localhost:8080/",
          "height": 34
        },
        "outputId": "73a2aeae-af86-4c67-d1bf-829695f2d417"
      },
      "source": [
        "!git init"
      ],
      "execution_count": 14,
      "outputs": [
        {
          "output_type": "stream",
          "text": [
            "Initialized empty Git repository in /content/TFM/.git/\n"
          ],
          "name": "stdout"
        }
      ]
    },
    {
      "cell_type": "code",
      "metadata": {
        "id": "2LU_yqF0mb7d",
        "colab_type": "code",
        "colab": {
          "base_uri": "https://localhost:8080/",
          "height": 52
        },
        "outputId": "bbcde45a-362d-4f64-d1a8-f8cd7593fa49"
      },
      "source": [
        "%ls"
      ],
      "execution_count": 17,
      "outputs": [
        {
          "output_type": "stream",
          "text": [
            "\u001b[0m\u001b[01;34mdatas\u001b[0m/   \u001b[01;34mMainNotebook\u001b[0m/  \u001b[01;34mNotebooks\u001b[0m/  requirements.txt  setup.py  \u001b[01;34mtrainer\u001b[0m/\n",
            "LICENSE  MANIFEST.in    README.md   setup.cfg         \u001b[01;34mtests\u001b[0m/    versioneer.py\n"
          ],
          "name": "stdout"
        }
      ]
    },
    {
      "cell_type": "code",
      "metadata": {
        "id": "kOHxZg3Qmi32",
        "colab_type": "code",
        "colab": {}
      },
      "source": [
        "%mkdir Notebooks"
      ],
      "execution_count": 21,
      "outputs": []
    },
    {
      "cell_type": "code",
      "metadata": {
        "id": "GownMk9kmpUm",
        "colab_type": "code",
        "colab": {}
      },
      "source": [
        "%mkdir MainNotebook"
      ],
      "execution_count": 22,
      "outputs": []
    },
    {
      "cell_type": "code",
      "metadata": {
        "id": "jsp2RatYmvxn",
        "colab_type": "code",
        "colab": {}
      },
      "source": [
        "%mv 01_dimensionality_reduction_pca_colab_student_version.ipynb BDL_teacher.ipynb cnn_captcha__teacher.ipynb CNN_main__teacher.ipynb GAN_with_solutions.ipynb MAIN_DRL_class_2_DQN_solved.ipynb Main_RNN_learning_to_add_as_transaltion_task_colab_student_version.ipynb RNN_time_series_colab_student_version.ipynb Notebooks/\n"
      ],
      "execution_count": 24,
      "outputs": []
    },
    {
      "cell_type": "code",
      "metadata": {
        "id": "SVcauVSWnOBh",
        "colab_type": "code",
        "colab": {
          "base_uri": "https://localhost:8080/",
          "height": 104
        },
        "outputId": "0feac848-47a7-4bd1-9a8a-9b9b421d25e3"
      },
      "source": [
        "%ls"
      ],
      "execution_count": 25,
      "outputs": [
        {
          "output_type": "stream",
          "text": [
            "298_2020_1980.xlsx                    MANIFEST.in       setup.py\n",
            "CNN_Transfer_Learning__teacher.ipynb  \u001b[0m\u001b[01;34mNotebooks\u001b[0m/        \u001b[01;34mtests\u001b[0m/\n",
            "FinanceData_ML.ipynb                  README.md         \u001b[01;34mtrainer\u001b[0m/\n",
            "LICENSE                               requirements.txt  versioneer.py\n",
            "\u001b[01;34mMainNotebook\u001b[0m/                         setup.cfg\n"
          ],
          "name": "stdout"
        }
      ]
    },
    {
      "cell_type": "code",
      "metadata": {
        "id": "y7JZzrgznTcx",
        "colab_type": "code",
        "colab": {}
      },
      "source": [
        "%mkdir datas"
      ],
      "execution_count": 26,
      "outputs": []
    },
    {
      "cell_type": "code",
      "metadata": {
        "id": "ViZYkgdLnXYR",
        "colab_type": "code",
        "colab": {}
      },
      "source": [
        "%mv 298_2020_1980.xlsx  datas/"
      ],
      "execution_count": 27,
      "outputs": []
    },
    {
      "cell_type": "code",
      "metadata": {
        "id": "_W-6j2hsndVK",
        "colab_type": "code",
        "colab": {}
      },
      "source": [
        "%mv FinanceData_ML.ipynb MainNotebook/"
      ],
      "execution_count": 28,
      "outputs": []
    },
    {
      "cell_type": "code",
      "metadata": {
        "id": "5V6lb69Wnhy6",
        "colab_type": "code",
        "colab": {
          "base_uri": "https://localhost:8080/",
          "height": 104
        },
        "outputId": "2d9bcb0d-fc80-4a5e-eb08-dc30ea39d90b"
      },
      "source": [
        "%ls"
      ],
      "execution_count": 29,
      "outputs": [
        {
          "output_type": "stream",
          "text": [
            "CNN_Transfer_Learning__teacher.ipynb  \u001b[0m\u001b[01;34mNotebooks\u001b[0m/        \u001b[01;34mtests\u001b[0m/\n",
            "\u001b[01;34mdatas\u001b[0m/                                README.md         \u001b[01;34mtrainer\u001b[0m/\n",
            "LICENSE                               requirements.txt  versioneer.py\n",
            "\u001b[01;34mMainNotebook\u001b[0m/                         setup.cfg\n",
            "MANIFEST.in                           setup.py\n"
          ],
          "name": "stdout"
        }
      ]
    },
    {
      "cell_type": "code",
      "metadata": {
        "id": "QuqrcXgXnicy",
        "colab_type": "code",
        "colab": {}
      },
      "source": [
        "mv CNN_Transfer_Learning__teacher.ipynb Notebooks/"
      ],
      "execution_count": 30,
      "outputs": []
    },
    {
      "cell_type": "code",
      "metadata": {
        "id": "5J2riPG9nmAa",
        "colab_type": "code",
        "colab": {
          "base_uri": "https://localhost:8080/",
          "height": 52
        },
        "outputId": "d32244da-6dc3-4a92-ffba-f579e6ce5fc8"
      },
      "source": [
        "%ls"
      ],
      "execution_count": 31,
      "outputs": [
        {
          "output_type": "stream",
          "text": [
            "\u001b[0m\u001b[01;34mdatas\u001b[0m/   \u001b[01;34mMainNotebook\u001b[0m/  \u001b[01;34mNotebooks\u001b[0m/  requirements.txt  setup.py  \u001b[01;34mtrainer\u001b[0m/\n",
            "LICENSE  MANIFEST.in    README.md   setup.cfg         \u001b[01;34mtests\u001b[0m/    versioneer.py\n"
          ],
          "name": "stdout"
        }
      ]
    },
    {
      "cell_type": "code",
      "metadata": {
        "id": "zEuj-l90nnQa",
        "colab_type": "code",
        "colab": {
          "base_uri": "https://localhost:8080/",
          "height": 262
        },
        "outputId": "9e0c78ff-b6dd-4349-93c9-96b11a039cae"
      },
      "source": [
        "!git add .\n",
        "!git commit -m \"REORGANISATION DES REPERTOIRES\"\n"
      ],
      "execution_count": 33,
      "outputs": [
        {
          "output_type": "stream",
          "text": [
            "[master f368f60] REORGANISATION DES REPERTOIRES\n",
            " 11 files changed, 0 insertions(+), 0 deletions(-)\n",
            " rename FinanceData_ML.ipynb => MainNotebook/FinanceData_ML.ipynb (100%)\n",
            " rename 01_dimensionality_reduction_pca_colab_student_version.ipynb => Notebooks/01_dimensionality_reduction_pca_colab_student_version.ipynb (100%)\n",
            " rename BDL_teacher.ipynb => Notebooks/BDL_teacher.ipynb (100%)\n",
            " rename CNN_Transfer_Learning__teacher.ipynb => Notebooks/CNN_Transfer_Learning__teacher.ipynb (100%)\n",
            " rename CNN_main__teacher.ipynb => Notebooks/CNN_main__teacher.ipynb (100%)\n",
            " rename GAN_with_solutions.ipynb => Notebooks/GAN_with_solutions.ipynb (100%)\n",
            " rename MAIN_DRL_class_2_DQN_solved.ipynb => Notebooks/MAIN_DRL_class_2_DQN_solved.ipynb (100%)\n",
            " rename Main_RNN_learning_to_add_as_transaltion_task_colab_student_version.ipynb => Notebooks/Main_RNN_learning_to_add_as_transaltion_task_colab_student_version.ipynb (100%)\n",
            " rename RNN_time_series_colab_student_version.ipynb => Notebooks/RNN_time_series_colab_student_version.ipynb (100%)\n",
            " rename cnn_captcha__teacher.ipynb => Notebooks/cnn_captcha__teacher.ipynb (100%)\n",
            " rename 298_2020_1980.xlsx => datas/298_2020_1980.xlsx (100%)\n"
          ],
          "name": "stdout"
        }
      ]
    },
    {
      "cell_type": "code",
      "metadata": {
        "id": "sZPeyxdLn5Mc",
        "colab_type": "code",
        "colab": {
          "base_uri": "https://localhost:8080/",
          "height": 34
        },
        "outputId": "4531354b-270c-4845-933b-b2bbf3e422b5"
      },
      "source": [
        "!git push origin master"
      ],
      "execution_count": 34,
      "outputs": [
        {
          "output_type": "stream",
          "text": [
            "fatal: could not read Username for 'https://github.com': No such device or address\n"
          ],
          "name": "stdout"
        }
      ]
    },
    {
      "cell_type": "code",
      "metadata": {
        "id": "8UoiduDJoAhE",
        "colab_type": "code",
        "colab": {
          "base_uri": "https://localhost:8080/",
          "height": 104
        },
        "outputId": "2ff8403f-683b-4d4a-a038-d5d204699572"
      },
      "source": [
        "!git status"
      ],
      "execution_count": 35,
      "outputs": [
        {
          "output_type": "stream",
          "text": [
            "On branch master\n",
            "Your branch is ahead of 'origin/master' by 1 commit.\n",
            "  (use \"git push\" to publish your local commits)\n",
            "\n",
            "nothing to commit, working tree clean\n"
          ],
          "name": "stdout"
        }
      ]
    },
    {
      "cell_type": "code",
      "metadata": {
        "id": "QpGzWYa8ojze",
        "colab_type": "code",
        "colab": {
          "base_uri": "https://localhost:8080/",
          "height": 34
        },
        "outputId": "7899f584-5f12-41a2-810c-01d86c2a86d8"
      },
      "source": [
        "!git push"
      ],
      "execution_count": 36,
      "outputs": [
        {
          "output_type": "stream",
          "text": [
            "fatal: could not read Username for 'https://github.com': No such device or address\n"
          ],
          "name": "stdout"
        }
      ]
    },
    {
      "cell_type": "code",
      "metadata": {
        "id": "8a4PehGnonWv",
        "colab_type": "code",
        "colab": {
          "base_uri": "https://localhost:8080/",
          "height": 69
        },
        "outputId": "50215151-103a-4f00-9b25-f6248efcfb5a"
      },
      "source": [
        "!git checkout master"
      ],
      "execution_count": 37,
      "outputs": [
        {
          "output_type": "stream",
          "text": [
            "Already on 'master'\n",
            "Your branch is ahead of 'origin/master' by 1 commit.\n",
            "  (use \"git push\" to publish your local commits)\n"
          ],
          "name": "stdout"
        }
      ]
    },
    {
      "cell_type": "code",
      "metadata": {
        "id": "DHu7PBRJoytn",
        "colab_type": "code",
        "colab": {
          "base_uri": "https://localhost:8080/",
          "height": 52
        },
        "outputId": "fcd5eab7-9335-4487-e6c5-2efbd890dcaf"
      },
      "source": [
        "!git fetch origin master"
      ],
      "execution_count": 38,
      "outputs": [
        {
          "output_type": "stream",
          "text": [
            "From https://github.com/imiled/DL_Tools_For_Finance\n",
            " * branch            master     -> FETCH_HEAD\n"
          ],
          "name": "stdout"
        }
      ]
    },
    {
      "cell_type": "code",
      "metadata": {
        "id": "iam3JK7ro1C_",
        "colab_type": "code",
        "colab": {
          "base_uri": "https://localhost:8080/",
          "height": 52
        },
        "outputId": "cafbcec7-8760-4323-e7c9-fe280257e116"
      },
      "source": [
        "!git rebase -i origin/master"
      ],
      "execution_count": 39,
      "outputs": [
        {
          "output_type": "stream",
          "text": [
            "/usr/lib/git-core/git-rebase: 1: eval: editor: not found\n",
            "Could not execute editor\n"
          ],
          "name": "stdout"
        }
      ]
    },
    {
      "cell_type": "code",
      "metadata": {
        "id": "w0OWD2qHo3a_",
        "colab_type": "code",
        "colab": {
          "base_uri": "https://localhost:8080/",
          "height": 34
        },
        "outputId": "085bdacb-4884-4546-9b9d-bfa133c8ae55"
      },
      "source": [
        "!git push origin master"
      ],
      "execution_count": 40,
      "outputs": [
        {
          "output_type": "stream",
          "text": [
            "fatal: could not read Username for 'https://github.com': No such device or address\n"
          ],
          "name": "stdout"
        }
      ]
    },
    {
      "cell_type": "code",
      "metadata": {
        "id": "m4nksOWZo71Q",
        "colab_type": "code",
        "colab": {}
      },
      "source": [
        "!git config --global user.name \"imiled\""
      ],
      "execution_count": 46,
      "outputs": []
    },
    {
      "cell_type": "code",
      "metadata": {
        "id": "NloGyM-epNPP",
        "colab_type": "code",
        "colab": {
          "base_uri": "https://localhost:8080/",
          "height": 34
        },
        "outputId": "57956bc8-a81d-4237-e560-9e70473cae69"
      },
      "source": [
        "!git push origin master"
      ],
      "execution_count": 47,
      "outputs": [
        {
          "output_type": "stream",
          "text": [
            "fatal: could not read Username for 'https://github.com': No such device or address\n"
          ],
          "name": "stdout"
        }
      ]
    },
    {
      "cell_type": "code",
      "metadata": {
        "id": "WYQmFNVewuDY",
        "colab_type": "code",
        "colab": {}
      },
      "source": [
        "!git remote add imiled https://github.com/imiled/DL_Tools_For_Finance.git"
      ],
      "execution_count": 49,
      "outputs": []
    },
    {
      "cell_type": "code",
      "metadata": {
        "id": "384yLzxqw3AX",
        "colab_type": "code",
        "colab": {
          "base_uri": "https://localhost:8080/",
          "height": 34
        },
        "outputId": "8def1ab1-4594-45e5-af1c-bc092b055cf0"
      },
      "source": [
        "!git push origin master"
      ],
      "execution_count": 50,
      "outputs": [
        {
          "output_type": "stream",
          "text": [
            "fatal: could not read Username for 'https://github.com': No such device or address\n"
          ],
          "name": "stdout"
        }
      ]
    },
    {
      "cell_type": "code",
      "metadata": {
        "id": "8VF6kQ7Dw--w",
        "colab_type": "code",
        "colab": {
          "base_uri": "https://localhost:8080/",
          "height": 104
        },
        "outputId": "0109e2f6-63de-4966-8b2b-657e1a760617"
      },
      "source": [
        "!git status"
      ],
      "execution_count": 51,
      "outputs": [
        {
          "output_type": "stream",
          "text": [
            "On branch master\n",
            "Your branch is ahead of 'origin/master' by 1 commit.\n",
            "  (use \"git push\" to publish your local commits)\n",
            "\n",
            "nothing to commit, working tree clean\n"
          ],
          "name": "stdout"
        }
      ]
    },
    {
      "cell_type": "code",
      "metadata": {
        "id": "WGnmVO4RxABP",
        "colab_type": "code",
        "colab": {
          "base_uri": "https://localhost:8080/",
          "height": 34
        },
        "outputId": "4cdb2914-786e-4084-dc63-01943a79c12a"
      },
      "source": [
        "!git push"
      ],
      "execution_count": 52,
      "outputs": [
        {
          "output_type": "stream",
          "text": [
            "fatal: could not read Username for 'https://github.com': No such device or address\n"
          ],
          "name": "stdout"
        }
      ]
    },
    {
      "cell_type": "code",
      "metadata": {
        "id": "fRVunFGyxFbH",
        "colab_type": "code",
        "colab": {
          "base_uri": "https://localhost:8080/",
          "height": 104
        },
        "outputId": "d78530d9-966d-461d-801b-23b79a6a50ad"
      },
      "source": [
        "!git status"
      ],
      "execution_count": 53,
      "outputs": [
        {
          "output_type": "stream",
          "text": [
            "On branch master\n",
            "Your branch is ahead of 'origin/master' by 1 commit.\n",
            "  (use \"git push\" to publish your local commits)\n",
            "\n",
            "nothing to commit, working tree clean\n"
          ],
          "name": "stdout"
        }
      ]
    },
    {
      "cell_type": "code",
      "metadata": {
        "id": "ZoWCQJLvyZog",
        "colab_type": "code",
        "colab": {
          "base_uri": "https://localhost:8080/",
          "height": 34
        },
        "outputId": "d0939c74-eed2-4dc2-cf9f-5a10e0f4c5cc"
      },
      "source": [
        "%cd .."
      ],
      "execution_count": 54,
      "outputs": [
        {
          "output_type": "stream",
          "text": [
            "/content/TFM\n"
          ],
          "name": "stdout"
        }
      ]
    },
    {
      "cell_type": "code",
      "metadata": {
        "id": "v2yiYSKkyc9a",
        "colab_type": "code",
        "colab": {
          "base_uri": "https://localhost:8080/",
          "height": 34
        },
        "outputId": "2cba11ea-6546-4b6c-d998-2e2dbee463fb"
      },
      "source": [
        "!git push"
      ],
      "execution_count": 55,
      "outputs": [
        {
          "output_type": "stream",
          "text": [
            "fatal: not a git repository (or any of the parent directories): .git\n"
          ],
          "name": "stdout"
        }
      ]
    },
    {
      "cell_type": "code",
      "metadata": {
        "id": "s8HmVUivyp2Z",
        "colab_type": "code",
        "colab": {
          "base_uri": "https://localhost:8080/",
          "height": 52
        },
        "outputId": "016d121e-712d-46a4-ab46-251666e88559"
      },
      "source": [
        "cd DL_Tools_For_Finance/"
      ],
      "execution_count": 21,
      "outputs": [
        {
          "output_type": "stream",
          "text": [
            "[Errno 2] No such file or directory: 'DL_Tools_For_Finance/'\n",
            "/content/TFM/DL_Tools_For_Finance\n"
          ],
          "name": "stdout"
        }
      ]
    },
    {
      "cell_type": "code",
      "metadata": {
        "id": "CmVGrSOoyr6Z",
        "colab_type": "code",
        "colab": {
          "base_uri": "https://localhost:8080/",
          "height": 104
        },
        "outputId": "8f86a92c-f03a-4761-c4b6-a0bbd7e703ea"
      },
      "source": [
        "!git push"
      ],
      "execution_count": 23,
      "outputs": [
        {
          "output_type": "stream",
          "text": [
            "Host key verification failed.\r\n",
            "fatal: Could not read from remote repository.\n",
            "\n",
            "Please make sure you have the correct access rights\n",
            "and the repository exists.\n"
          ],
          "name": "stdout"
        }
      ]
    },
    {
      "cell_type": "code",
      "metadata": {
        "id": "YAIxTIy2y7zy",
        "colab_type": "code",
        "colab": {
          "base_uri": "https://localhost:8080/",
          "height": 104
        },
        "outputId": "3b1c0255-ae02-4132-d54c-d3c191fca482"
      },
      "source": [
        "!git commit"
      ],
      "execution_count": 22,
      "outputs": [
        {
          "output_type": "stream",
          "text": [
            "On branch master\n",
            "Your branch is ahead of 'origin/master' by 1 commit.\n",
            "  (use \"git push\" to publish your local commits)\n",
            "\n",
            "nothing to commit, working tree clean\n"
          ],
          "name": "stdout"
        }
      ]
    },
    {
      "cell_type": "code",
      "metadata": {
        "id": "622PCLUWzQcJ",
        "colab_type": "code",
        "colab": {
          "base_uri": "https://localhost:8080/",
          "height": 104
        },
        "outputId": "6361d7de-0c0e-4d2b-e67e-87e133e62bd7"
      },
      "source": [
        "!git push"
      ],
      "execution_count": 62,
      "outputs": [
        {
          "output_type": "stream",
          "text": [
            "Host key verification failed.\r\n",
            "fatal: Could not read from remote repository.\n",
            "\n",
            "Please make sure you have the correct access rights\n",
            "and the repository exists.\n"
          ],
          "name": "stdout"
        }
      ]
    },
    {
      "cell_type": "code",
      "metadata": {
        "id": "Fj52-wVozR0C",
        "colab_type": "code",
        "colab": {
          "base_uri": "https://localhost:8080/",
          "height": 34
        },
        "outputId": "b217baf2-0d1e-4115-900f-b8a9c34eb210"
      },
      "source": [
        "%pwd"
      ],
      "execution_count": 18,
      "outputs": [
        {
          "output_type": "execute_result",
          "data": {
            "application/vnd.google.colaboratory.intrinsic+json": {
              "type": "string"
            },
            "text/plain": [
              "'/content/TFM/DL_Tools_For_Finance'"
            ]
          },
          "metadata": {
            "tags": []
          },
          "execution_count": 18
        }
      ]
    },
    {
      "cell_type": "code",
      "metadata": {
        "id": "BvX5AsWB1rnt",
        "colab_type": "code",
        "colab": {}
      },
      "source": [
        ""
      ],
      "execution_count": null,
      "outputs": []
    }
  ]
}